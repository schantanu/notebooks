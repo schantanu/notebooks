{
 "cells": [
  {
   "cell_type": "markdown",
   "metadata": {},
   "source": [
    "## Catan Die Roll Experiment\n",
    "\n",
    "If you've ever played Catan, you may have felt the urge to flip the board after the Robber struck at just the wrong moment. Behind this frustration lies a simple yet powerful phenomenon: the probability distribution of dice rolls. In this experiment, we will simulate rolling two six-sided dice multiple times to observe the distribution of their sums.\n",
    "\n",
    "The sum of two dice can range from 2 to 12, but not all outcomes are equally likely. The purpose of this experiment is to demonstrate how the distribution of outcomes changes as the number of rolls increases, showing the real probabilities behind those infamous Catan moments.\n",
    "\n",
    "As we increase the number of rolls, we will see the sum of the dice converge towards a bell-shaped distribution, with 7 (the Robber) being the most likely outcome, helping explain why the Robber seems to appear more often than you'd like!"
   ]
  },
  {
   "cell_type": "code",
   "execution_count": 1,
   "metadata": {},
   "outputs": [
    {
     "data": {
      "application/vnd.jupyter.widget-view+json": {
       "model_id": "011241aae3ff4570bc0f159b78ab76b4",
       "version_major": 2,
       "version_minor": 0
      },
      "text/plain": [
       "interactive(children=(IntSlider(value=1000, description='total_rolls', max=1000000, min=100, step=1000), Outpu…"
      ]
     },
     "metadata": {},
     "output_type": "display_data"
    }
   ],
   "source": [
    "import numpy as np\n",
    "import matplotlib.pyplot as plt\n",
    "from ipywidgets import interact\n",
    "import ipywidgets as widgets\n",
    "\n",
    "# Update the plot based on slider input\n",
    "def update_plot(total_rolls):\n",
    "    # Generate random die outcomes\n",
    "    die1 = np.random.randint(1, 7, size=total_rolls)\n",
    "    die2 = np.random.randint(1, 7, size=total_rolls)\n",
    "    outcomes = die1 + die2\n",
    "\n",
    "    # Plot distribution chart\n",
    "    plt.figure(figsize=(10, 6))\n",
    "    plt.hist(outcomes, bins=np.arange(2, 14) - 0.5, density=True, alpha=0.7, edgecolor='black')\n",
    "    plt.title(f\"Distribution of Sum of Two Dice Rolls ({total_rolls} rolls)\")\n",
    "    plt.xlabel(\"Die Roll Outcome\")\n",
    "    plt.ylabel(\"Probability\")\n",
    "    plt.xticks(np.arange(2, 13))\n",
    "    plt.grid(True)\n",
    "    plt.show()\n",
    "\n",
    "# Interact using the slider\n",
    "interact(update_plot, total_rolls=widgets.IntSlider(min=100, max=1000000, step=1000, value=1000));\n"
   ]
  }
 ],
 "metadata": {
  "kernelspec": {
   "display_name": "Python 3",
   "language": "python",
   "name": "python3"
  },
  "language_info": {
   "codemirror_mode": {
    "name": "ipython",
    "version": 3
   },
   "file_extension": ".py",
   "mimetype": "text/x-python",
   "name": "python",
   "nbconvert_exporter": "python",
   "pygments_lexer": "ipython3",
   "version": "3.12.1"
  }
 },
 "nbformat": 4,
 "nbformat_minor": 2
}
